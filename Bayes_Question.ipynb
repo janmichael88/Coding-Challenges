{
 "cells": [
  {
   "cell_type": "markdown",
   "metadata": {},
   "source": [
    "$\n",
    "D = Disease \\\\\n",
    "+ = Positive Test \\\\\n",
    "P (D) = .002 \\\\\n",
    "P (D^C) = .998 \\\\\n",
    "P (+) = .08 \\\\\n",
    "P (+^C)  =  .92 \\\\\n",
    "P (+|D) =  .85\n",
    "$\n",
    "\n",
    "We want:\n",
    "\n",
    "$\n",
    "P (D|+) = \\frac{P(+|D)P(D)}{P(+)} \\\\\n",
    "= \\frac{P(+|D) P(D)}{\\sum P(+)} \\\\\n",
    "= \\frac{P(+|D) P(D)}{P(+|D)P(D) + P(+|D^C)P(D^C)} \\\\\n",
    "= \\frac{0.85 \\times 0.002}{0.85 \\times 0.002 + (1-0.85) \\times (1-.002)} \\\\\n",
    "= \\frac{0.85 \\times 0.002}{0.85 \\times 0.002 + 0.15 \\times 0.998} \\\\\n",
    "= \\frac{0.0017}{.1514} \\\\\n",
    "\\approx 1.12\\%\n",
    "$"
   ]
  },
  {
   "cell_type": "code",
   "execution_count": 9,
   "metadata": {},
   "outputs": [
    {
     "data": {
      "text/plain": [
       "0.011228533685601054"
      ]
     },
     "execution_count": 9,
     "metadata": {},
     "output_type": "execute_result"
    }
   ],
   "source": [
    "(.85*.002)/(.85*.002 + (1-.85)*(1-.002))"
   ]
  },
  {
   "cell_type": "code",
   "execution_count": null,
   "metadata": {},
   "outputs": [],
   "source": []
  },
  {
   "cell_type": "code",
   "execution_count": null,
   "metadata": {},
   "outputs": [],
   "source": []
  }
 ],
 "metadata": {
  "kernelspec": {
   "display_name": "Python 3",
   "language": "python",
   "name": "python3"
  },
  "language_info": {
   "codemirror_mode": {
    "name": "ipython",
    "version": 3
   },
   "file_extension": ".py",
   "mimetype": "text/x-python",
   "name": "python",
   "nbconvert_exporter": "python",
   "pygments_lexer": "ipython3",
   "version": "3.7.3"
  }
 },
 "nbformat": 4,
 "nbformat_minor": 4
}
